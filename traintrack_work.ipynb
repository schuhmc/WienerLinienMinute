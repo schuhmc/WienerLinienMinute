{
 "cells": [
  {
   "cell_type": "code",
   "execution_count": 1,
   "metadata": {},
   "outputs": [],
   "source": [
    "import matplotlib.pyplot as plt\n",
    "%matplotlib ipympl"
   ]
  },
  {
   "cell_type": "code",
   "execution_count": 2,
   "metadata": {},
   "outputs": [
    {
     "data": {
      "text/html": [
       "<div>\n",
       "<style scoped>\n",
       "    .dataframe tbody tr th:only-of-type {\n",
       "        vertical-align: middle;\n",
       "    }\n",
       "\n",
       "    .dataframe tbody tr th {\n",
       "        vertical-align: top;\n",
       "    }\n",
       "\n",
       "    .dataframe thead th {\n",
       "        text-align: right;\n",
       "    }\n",
       "</style>\n",
       "<table border=\"1\" class=\"dataframe\">\n",
       "  <thead>\n",
       "    <tr style=\"text-align: right;\">\n",
       "      <th></th>\n",
       "      <th>station</th>\n",
       "      <th>line</th>\n",
       "      <th>towards</th>\n",
       "      <th>count</th>\n",
       "    </tr>\n",
       "  </thead>\n",
       "  <tbody>\n",
       "    <tr>\n",
       "      <th>0</th>\n",
       "      <td>Flurschützstraße / Längenfeldgasse</td>\n",
       "      <td>63A</td>\n",
       "      <td>Am Rosenhügel</td>\n",
       "      <td>417</td>\n",
       "    </tr>\n",
       "    <tr>\n",
       "      <th>1</th>\n",
       "      <td>Flurschützstraße / Längenfeldgasse</td>\n",
       "      <td>63A</td>\n",
       "      <td>Gesundheitszentrum Süd</td>\n",
       "      <td>417</td>\n",
       "    </tr>\n",
       "    <tr>\n",
       "      <th>4</th>\n",
       "      <td>Flurschützstraße, Längenfeldgasse</td>\n",
       "      <td>62</td>\n",
       "      <td>Oper, Karlsplatz U</td>\n",
       "      <td>417</td>\n",
       "    </tr>\n",
       "    <tr>\n",
       "      <th>7</th>\n",
       "      <td>Flurschützstraße, Längenfeldgasse</td>\n",
       "      <td>WLB</td>\n",
       "      <td>Wien Oper</td>\n",
       "      <td>416</td>\n",
       "    </tr>\n",
       "    <tr>\n",
       "      <th>15</th>\n",
       "      <td>Längenfeldgasse U</td>\n",
       "      <td>12A</td>\n",
       "      <td>Eichenstraße</td>\n",
       "      <td>416</td>\n",
       "    </tr>\n",
       "    <tr>\n",
       "      <th>16</th>\n",
       "      <td>Längenfeldgasse U</td>\n",
       "      <td>12A</td>\n",
       "      <td>Schmelz, Gablenzgasse</td>\n",
       "      <td>416</td>\n",
       "    </tr>\n",
       "    <tr>\n",
       "      <th>10</th>\n",
       "      <td>Längenfeldgasse</td>\n",
       "      <td>U4</td>\n",
       "      <td>HÜTTELDORF</td>\n",
       "      <td>412</td>\n",
       "    </tr>\n",
       "    <tr>\n",
       "      <th>13</th>\n",
       "      <td>Längenfeldgasse</td>\n",
       "      <td>U6</td>\n",
       "      <td>FLORIDSDORF</td>\n",
       "      <td>412</td>\n",
       "    </tr>\n",
       "    <tr>\n",
       "      <th>9</th>\n",
       "      <td>Längenfeldgasse</td>\n",
       "      <td>U4</td>\n",
       "      <td>HEILIGENSTADT</td>\n",
       "      <td>411</td>\n",
       "    </tr>\n",
       "    <tr>\n",
       "      <th>14</th>\n",
       "      <td>Längenfeldgasse</td>\n",
       "      <td>U6</td>\n",
       "      <td>SIEBENHIRTEN</td>\n",
       "      <td>401</td>\n",
       "    </tr>\n",
       "    <tr>\n",
       "      <th>2</th>\n",
       "      <td>Flurschützstraße, Längenfeldgasse</td>\n",
       "      <td>62</td>\n",
       "      <td>Lainz, Wolkersbergenstraße</td>\n",
       "      <td>378</td>\n",
       "    </tr>\n",
       "    <tr>\n",
       "      <th>6</th>\n",
       "      <td>Flurschützstraße, Längenfeldgasse</td>\n",
       "      <td>WLB</td>\n",
       "      <td>Baden Josefspl.</td>\n",
       "      <td>232</td>\n",
       "    </tr>\n",
       "    <tr>\n",
       "      <th>8</th>\n",
       "      <td>Flurschützstraße, Längenfeldgasse</td>\n",
       "      <td>WLB</td>\n",
       "      <td>Wiener Neudorf</td>\n",
       "      <td>184</td>\n",
       "    </tr>\n",
       "    <tr>\n",
       "      <th>3</th>\n",
       "      <td>Flurschützstraße, Längenfeldgasse</td>\n",
       "      <td>62</td>\n",
       "      <td>Meidling S, Dörfelstraße</td>\n",
       "      <td>37</td>\n",
       "    </tr>\n",
       "    <tr>\n",
       "      <th>5</th>\n",
       "      <td>Flurschützstraße, Längenfeldgasse</td>\n",
       "      <td>62</td>\n",
       "      <td>Wattmanngasse, Betriebsbhf. Speising</td>\n",
       "      <td>1</td>\n",
       "    </tr>\n",
       "  </tbody>\n",
       "</table>\n",
       "</div>"
      ],
      "text/plain": [
       "                               station line  \\\n",
       "0   Flurschützstraße / Längenfeldgasse  63A   \n",
       "1   Flurschützstraße / Längenfeldgasse  63A   \n",
       "4    Flurschützstraße, Längenfeldgasse   62   \n",
       "7    Flurschützstraße, Längenfeldgasse  WLB   \n",
       "15                   Längenfeldgasse U  12A   \n",
       "16                   Längenfeldgasse U  12A   \n",
       "10                     Längenfeldgasse   U4   \n",
       "13                     Längenfeldgasse   U6   \n",
       "9                      Längenfeldgasse   U4   \n",
       "14                     Längenfeldgasse   U6   \n",
       "2    Flurschützstraße, Längenfeldgasse   62   \n",
       "6    Flurschützstraße, Längenfeldgasse  WLB   \n",
       "8    Flurschützstraße, Längenfeldgasse  WLB   \n",
       "3    Flurschützstraße, Längenfeldgasse   62   \n",
       "5    Flurschützstraße, Längenfeldgasse   62   \n",
       "\n",
       "                                 towards  count  \n",
       "0                          Am Rosenhügel    417  \n",
       "1                 Gesundheitszentrum Süd    417  \n",
       "4                     Oper, Karlsplatz U    417  \n",
       "7                              Wien Oper    416  \n",
       "15                          Eichenstraße    416  \n",
       "16                 Schmelz, Gablenzgasse    416  \n",
       "10                            HÜTTELDORF    412  \n",
       "13                           FLORIDSDORF    412  \n",
       "9                          HEILIGENSTADT    411  \n",
       "14                          SIEBENHIRTEN    401  \n",
       "2             Lainz, Wolkersbergenstraße    378  \n",
       "6                        Baden Josefspl.    232  \n",
       "8                         Wiener Neudorf    184  \n",
       "3               Meidling S, Dörfelstraße     37  \n",
       "5   Wattmanngasse, Betriebsbhf. Speising      1  "
      ]
     },
     "execution_count": 2,
     "metadata": {},
     "output_type": "execute_result"
    }
   ],
   "source": [
    "from wienerLinien import analyse as wla\n",
    "import pandas as pd\n",
    "\n",
    "ds = wla.apiData('./data/scrape_subset_last5k.csv')\n",
    "pd.options.display.max_rows = 25\n",
    "#ds.getAvailable()[['station', 'line', 'towards']].values\n",
    "ds.getAvailable()"
   ]
  },
  {
   "cell_type": "code",
   "execution_count": 3,
   "metadata": {},
   "outputs": [
    {
     "name": "stdout",
     "output_type": "stream",
     "text": [
      "Starting to process ['Flurschützstraße, Längenfeldgasse', 'WLB', 'Wien Oper']Starting to process ['Flurschützstraße / Längenfeldgasse', '63A', 'Am Rosenhügel']Starting to process ['Längenfeldgasse', 'U6', 'FLORIDSDORF']Starting to process ['Längenfeldgasse', 'U4', 'HEILIGENSTADT']Starting to process ['Flurschützstraße / Längenfeldgasse', '63A', 'Gesundheitszentrum Süd']Starting to process ['Längenfeldgasse U', '12A', 'Schmelz, Gablenzgasse']Starting to process ['Längenfeldgasse U', '12A', 'Eichenstraße']Starting to process ['Längenfeldgasse', 'U4', 'HÜTTELDORF']\n",
      "\n",
      "Starting to process ['Flurschützstraße, Längenfeldgasse', '62', 'Oper, Karlsplatz U']\n",
      "\n",
      "\n",
      "\n",
      "Starting to process ['Längenfeldgasse', 'U6', 'SIEBENHIRTEN']\n",
      "\n",
      "\n",
      "\n"
     ]
    },
    {
     "data": {
      "application/vnd.jupyter.widget-view+json": {
       "model_id": "7353fccfa0ea498290331d5588792aa5",
       "version_major": 2,
       "version_minor": 0
      },
      "text/plain": [
       "Total Progress:   0%|          | 0/10 [00:00<?, ?it/s]"
      ]
     },
     "metadata": {},
     "output_type": "display_data"
    },
    {
     "data": {
      "application/vnd.jupyter.widget-view+json": {
       "model_id": "302a675007c24cfdbd29ad2703aa5887",
       "version_major": 2,
       "version_minor": 0
      },
      "text/plain": [
       "Processing: ['Längenfeldgasse', 'U4', 'HEILIGENSTADT']:   0%|          | 0/411 [00:00<?, ?it/s]"
      ]
     },
     "metadata": {},
     "output_type": "display_data"
    },
    {
     "data": {
      "application/vnd.jupyter.widget-view+json": {
       "model_id": "c6709d37f5fc4723b0ff30e4a8f5b822",
       "version_major": 2,
       "version_minor": 0
      },
      "text/plain": [
       "Processing: ['Längenfeldgasse U', '12A', 'Schmelz, Gablenzgasse']:   0%|          | 0/416 [00:00<?, ?it/s]"
      ]
     },
     "metadata": {},
     "output_type": "display_data"
    },
    {
     "data": {
      "application/vnd.jupyter.widget-view+json": {
       "model_id": "00966c611dcd4bc9ae581cbf680f570a",
       "version_major": 2,
       "version_minor": 0
      },
      "text/plain": [
       "Processing: ['Längenfeldgasse', 'U4', 'HÜTTELDORF']:   0%|          | 0/412 [00:00<?, ?it/s]"
      ]
     },
     "metadata": {},
     "output_type": "display_data"
    },
    {
     "data": {
      "application/vnd.jupyter.widget-view+json": {
       "model_id": "476f91245fa54cc5bf81414f36dd1555",
       "version_major": 2,
       "version_minor": 0
      },
      "text/plain": [
       "Processing: ['Flurschützstraße, Längenfeldgasse', '62', 'Oper, Karlsplatz U']:   0%|          | 0/417 [00:00<?…"
      ]
     },
     "metadata": {},
     "output_type": "display_data"
    },
    {
     "data": {
      "application/vnd.jupyter.widget-view+json": {
       "model_id": "abedcf1556b041dc8ab7c1e11dba7cce",
       "version_major": 2,
       "version_minor": 0
      },
      "text/plain": [
       "Processing: ['Flurschützstraße, Längenfeldgasse', 'WLB', 'Wien Oper']:   0%|          | 0/416 [00:00<?, ?it/s]"
      ]
     },
     "metadata": {},
     "output_type": "display_data"
    },
    {
     "data": {
      "application/vnd.jupyter.widget-view+json": {
       "model_id": "8a87d51c7bf540ce84efdbe0eeb95728",
       "version_major": 2,
       "version_minor": 0
      },
      "text/plain": [
       "Processing: ['Flurschützstraße / Längenfeldgasse', '63A', 'Gesundheitszentrum Süd']:   0%|          | 0/417 [0…"
      ]
     },
     "metadata": {},
     "output_type": "display_data"
    },
    {
     "data": {
      "application/vnd.jupyter.widget-view+json": {
       "model_id": "ee45e3a4fc514389a5b4a1a541602398",
       "version_major": 2,
       "version_minor": 0
      },
      "text/plain": [
       "Processing: ['Längenfeldgasse', 'U6', 'SIEBENHIRTEN']:   0%|          | 0/401 [00:00<?, ?it/s]"
      ]
     },
     "metadata": {},
     "output_type": "display_data"
    },
    {
     "data": {
      "application/vnd.jupyter.widget-view+json": {
       "model_id": "1318ab54e8b54112af841977d6ec559f",
       "version_major": 2,
       "version_minor": 0
      },
      "text/plain": [
       "Processing: ['Längenfeldgasse', 'U6', 'FLORIDSDORF']:   0%|          | 0/412 [00:00<?, ?it/s]"
      ]
     },
     "metadata": {},
     "output_type": "display_data"
    },
    {
     "data": {
      "application/vnd.jupyter.widget-view+json": {
       "model_id": "ad441a8b166e45cbb0aaf96f02b3711d",
       "version_major": 2,
       "version_minor": 0
      },
      "text/plain": [
       "Processing: ['Flurschützstraße / Längenfeldgasse', '63A', 'Am Rosenhügel']:   0%|          | 0/417 [00:00<?, ?…"
      ]
     },
     "metadata": {},
     "output_type": "display_data"
    },
    {
     "data": {
      "application/vnd.jupyter.widget-view+json": {
       "model_id": "0ce7b9932ba743528c59f5ec87d6547e",
       "version_major": 2,
       "version_minor": 0
      },
      "text/plain": [
       "Processing: ['Längenfeldgasse U', '12A', 'Eichenstraße']:   0%|          | 0/416 [00:00<?, ?it/s]"
      ]
     },
     "metadata": {},
     "output_type": "display_data"
    },
    {
     "name": "stdout",
     "output_type": "stream",
     "text": [
      "\n"
     ]
    }
   ],
   "source": [
    "which = [['Flurschützstraße / Längenfeldgasse', '63A', 'Am Rosenhügel'],\n",
    "       ['Flurschützstraße / Längenfeldgasse', '63A',\n",
    "        'Gesundheitszentrum Süd'],\n",
    "       ['Flurschützstraße, Längenfeldgasse', '62', 'Oper, Karlsplatz U'],\n",
    "       ['Flurschützstraße, Längenfeldgasse', 'WLB', 'Wien Oper'],\n",
    "       ['Längenfeldgasse U', '12A', 'Eichenstraße'],\n",
    "       ['Längenfeldgasse U', '12A', 'Schmelz, Gablenzgasse'],\n",
    "       ['Längenfeldgasse', 'U4', 'HÜTTELDORF'],\n",
    "       ['Längenfeldgasse', 'U6', 'FLORIDSDORF'],\n",
    "       ['Längenfeldgasse', 'U4', 'HEILIGENSTADT'],\n",
    "       ['Längenfeldgasse', 'U6', 'SIEBENHIRTEN']]\n",
    "ds.trackMany(which=which, depth=4, multithreaded=12)"
   ]
  },
  {
   "cell_type": "code",
   "execution_count": 4,
   "metadata": {},
   "outputs": [
    {
     "data": {
      "application/vnd.jupyter.widget-view+json": {
       "model_id": "f770109552e04bd882bf85d5bc3d13bb",
       "version_major": 2,
       "version_minor": 0
      },
      "image/png": "[encoded data removed]",
      "text/html": [
       "\n",
       "            <div style=\"display: inline-block;\">\n",
       "                <div class=\"jupyter-widgets widget-label\" style=\"text-align: center;\">\n",
       "                    Figure\n",
       "                </div>\n",
       "                <img src='data:image/png;base64,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' width=640.0/>\n",
       "            </div>\n",
       "        "
      ],
      "text/plain": [
       "Canvas(toolbar=Toolbar(toolitems=[('Home', 'Reset original view', 'home', 'home'), ('Back', 'Back to previous …"
      ]
     },
     "metadata": {},
     "output_type": "display_data"
    }
   ],
   "source": [
    "u4_hlst = ds.fetchResults(which[8])\n",
    "u4_hlst.boxplot(column=['dt'], by=['countdown'])\n",
    "plt.show()"
   ]
  },
  {
   "cell_type": "code",
   "execution_count": 6,
   "metadata": {},
   "outputs": [
    {
     "data": {
      "text/plain": [
       "countdown    float64\n",
       "start        float64\n",
       "end          float64\n",
       "complete      object\n",
       "hour         float64\n",
       "warning       object\n",
       "dt           float64\n",
       "dtype: object"
      ]
     },
     "execution_count": 6,
     "metadata": {},
     "output_type": "execute_result"
    }
   ],
   "source": [
    "u4_hlst.dtypes"
   ]
  }
 ],
 "metadata": {
  "interpreter": {
   "hash": "dc3ab96e77725985693e3def87be56255577c468c49b4e6faf370b60be517c43"
  },
  "kernelspec": {
   "display_name": "Python 3.8.10 64-bit ('.venv': venv)",
   "language": "python",
   "name": "python3"
  },
  "language_info": {
   "codemirror_mode": {
    "name": "ipython",
    "version": 3
   },
   "file_extension": ".py",
   "mimetype": "text/x-python",
   "name": "python",
   "nbconvert_exporter": "python",
   "pygments_lexer": "ipython3",
   "version": "3.8.10"
  },
  "orig_nbformat": 4
 },
 "nbformat": 4,
 "nbformat_minor": 2
}
